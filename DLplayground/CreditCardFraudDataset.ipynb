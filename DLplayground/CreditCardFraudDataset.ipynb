{
 "cells": [
  {
   "cell_type": "markdown",
   "metadata": {},
   "source": [
    "### Kaggle Credit Card Fraud Dataset\n",
    "\n",
    "Taking the algorithms for a spin with the Credit Card Fraud Dataset. The initial modeling has shown a great promise, however I am very sceptical about the 99% accuracy on the test set. Why? Because this dataset is incredibly imbalanced, and what we care about most here are the fraudulent transactions. I am particularly interested if there is an option to set the class weights, so that the deep learning model focuses more on the class of interest (in this case 1 -> fraudulent transaction).\n",
    "\n",
    "\n",
    "I am going to start this off with a simple logistic regression classifier, which will serve as a baseline model for more complicated architectures, namely deep learning. There is one problem however, MXNet does not have an option to set the class weights, when the dataset is imbalanced."
   ]
  },
  {
   "cell_type": "markdown",
   "metadata": {},
   "source": [
    "#### 1. Importing libraries and data"
   ]
  },
  {
   "cell_type": "code",
   "execution_count": 4,
   "metadata": {},
   "outputs": [],
   "source": [
    "import pandas as pd\n",
    "from mxnet import autograd, np, npx, init, gluon, metric\n",
    "from mxnet.gluon import nn\n",
    "from sklearn.model_selection import train_test_split, cross_val_predict, cross_val_score, StratifiedKFold\n",
    "from sklearn.linear_model import LogisticRegression\n",
    "from sklearn.metrics import roc_curve, roc_auc_score, log_loss\n",
    "\n",
    "import matplotlib.pyplot as plt\n",
    "import os\n",
    "import d2l\n",
    "\n",
    "npx.set_np()"
   ]
  },
  {
   "cell_type": "code",
   "execution_count": 2,
   "metadata": {},
   "outputs": [],
   "source": [
    "def plot_ROC(fpr, tpr, thresholds, actuals, scores,  model = None):\n",
    "    plt.figure(figsize = (10,5))\n",
    "    plt.plot(fpr, tpr)\n",
    "    plt.plot([0,1], [0,1], 'k--')\n",
    "    \n",
    "    plt.xlim(0,1)\n",
    "    plt.ylim(0,1)\n",
    "    plt.xlabel('False Positive Rate')\n",
    "    plt.ylabel('True Positive Rate')\n",
    "    plt.title('ROC curve for ' + str(model))\n",
    "    \n",
    "    print('Area Under the Curve score:', roc_auc_score(actuals, scores))"
   ]
  },
  {
   "cell_type": "code",
   "execution_count": 7,
   "metadata": {},
   "outputs": [],
   "source": [
    "data_path = '/Users/januszpolowczyk/Documents/DeepLearn/data'"
   ]
  },
  {
   "cell_type": "code",
   "execution_count": 4,
   "metadata": {},
   "outputs": [],
   "source": [
    "df = pd.read_csv(data_path + '/creditcard.csv')"
   ]
  },
  {
   "cell_type": "code",
   "execution_count": null,
   "metadata": {},
   "outputs": [],
   "source": [
    "df.head()"
   ]
  },
  {
   "cell_type": "code",
   "execution_count": null,
   "metadata": {},
   "outputs": [],
   "source": [
    "df.info()"
   ]
  },
  {
   "cell_type": "code",
   "execution_count": 5,
   "metadata": {},
   "outputs": [
    {
     "data": {
      "text/plain": [
       "Text(0.5, 1.0, 'Barplot of the \"Class\" variable')"
      ]
     },
     "execution_count": 5,
     "metadata": {},
     "output_type": "execute_result"
    },
    {
     "data": {
      "image/png": "[encoded data removed]",
      "text/plain": [
       "<Figure size 432x288 with 1 Axes>"
      ]
     },
     "metadata": {
      "needs_background": "light"
     },
     "output_type": "display_data"
    }
   ],
   "source": [
    "df['Class'].value_counts().plot(kind = 'bar')\n",
    "plt.title('Barplot of the \"Class\" variable')"
   ]
  },
  {
   "cell_type": "code",
   "execution_count": 6,
   "metadata": {},
   "outputs": [
    {
     "data": {
      "text/plain": [
       "0    284315\n",
       "1       492\n",
       "Name: Class, dtype: int64"
      ]
     },
     "execution_count": 6,
     "metadata": {},
     "output_type": "execute_result"
    }
   ],
   "source": [
    "df['Class'].value_counts()"
   ]
  },
  {
   "cell_type": "code",
   "execution_count": 7,
   "metadata": {},
   "outputs": [],
   "source": [
    "corr = pd.DataFrame.corr(df)"
   ]
  },
  {
   "cell_type": "code",
   "execution_count": 8,
   "metadata": {},
   "outputs": [],
   "source": [
    "logreg = LogisticRegression(max_iter = 1000, \n",
    "                            class_weight = 'balanced',\n",
    "                            solver = 'liblinear')"
   ]
  },
  {
   "cell_type": "code",
   "execution_count": 9,
   "metadata": {},
   "outputs": [],
   "source": [
    "X = df.iloc[:, :-1]\n",
    "y = df.iloc[:, -1]"
   ]
  },
  {
   "cell_type": "code",
   "execution_count": 10,
   "metadata": {},
   "outputs": [],
   "source": [
    "X['Amount'] = (X['Amount'] - X['Amount'].mean()) / X['Amount'].std()"
   ]
  },
  {
   "cell_type": "code",
   "execution_count": 11,
   "metadata": {},
   "outputs": [],
   "source": [
    "X_train, X_test, y_train, y_test = train_test_split(X, y, test_size = 0.25,\n",
    "                                                   stratify = y)"
   ]
  },
  {
   "cell_type": "code",
   "execution_count": 12,
   "metadata": {},
   "outputs": [],
   "source": [
    "k_folds = StratifiedKFold(n_splits = 5, shuffle = True)"
   ]
  },
  {
   "cell_type": "code",
   "execution_count": 13,
   "metadata": {},
   "outputs": [
    {
     "name": "stdout",
     "output_type": "stream",
     "text": [
      "Training log loss: 0.11332951292447155\n",
      "Training log loss: 0.10406673197958144\n",
      "Training log loss: 0.11888014810987482\n",
      "Training log loss: 0.11967181593544675\n",
      "Training log loss: 0.1182065563850036\n"
     ]
    }
   ],
   "source": [
    "training_scores = []\n",
    "cv_scores = []\n",
    "predictionsBasedOnKFolds = pd.DataFrame(data = [], index = y_train.index, columns = [0,1])\n",
    "model = logreg\n",
    "\n",
    "for train_index, cv_index in k_folds.split(np.zeros(len(X_train)),\n",
    "                                           y_train.ravel()):\n",
    "    X_train_fold, X_cv_fold = X_train.iloc[train_index, :], X_train.iloc[cv_index, :]\n",
    "    \n",
    "    y_train_fold, y_cv_fold = y_train.iloc[train_index], y_train.iloc[cv_index]\n",
    "    \n",
    "    model.fit(X_train_fold, y_train_fold)\n",
    "    loglossTraining = log_loss(y_train_fold, model.predict_proba(X_train_fold)[:, 1])\n",
    "    training_scores.append(loglossTraining)\n",
    "    \n",
    "    predictionsBasedOnKFolds.loc[X_cv_fold.index, :] = model.predict_proba(X_cv_fold)\n",
    "    loglossCV = log_loss(y_cv_fold,\n",
    "                        predictionsBasedOnKFolds.loc[X_cv_fold.index, 1])\n",
    "    cv_scores.append(loglossCV)\n",
    "    \n",
    "    print('Training log loss:', loglossTraining)"
   ]
  },
  {
   "cell_type": "code",
   "execution_count": 14,
   "metadata": {},
   "outputs": [
    {
     "data": {
      "text/plain": [
       "LogisticRegression(C=1.0, class_weight='balanced', dual=False,\n",
       "                   fit_intercept=True, intercept_scaling=1, l1_ratio=None,\n",
       "                   max_iter=1000, multi_class='auto', n_jobs=None, penalty='l2',\n",
       "                   random_state=None, solver='liblinear', tol=0.0001, verbose=0,\n",
       "                   warm_start=False)"
      ]
     },
     "execution_count": 14,
     "metadata": {},
     "output_type": "execute_result"
    }
   ],
   "source": [
    "logreg.fit(X_train, y_train)"
   ]
  },
  {
   "cell_type": "code",
   "execution_count": 15,
   "metadata": {},
   "outputs": [],
   "source": [
    "y_preds = cross_val_predict(logreg, X_train, y_train, cv = 5)"
   ]
  },
  {
   "cell_type": "code",
   "execution_count": 16,
   "metadata": {},
   "outputs": [],
   "source": [
    "fpr, tpr, threshold = roc_curve(y_train, y_preds)"
   ]
  },
  {
   "cell_type": "code",
   "execution_count": 17,
   "metadata": {},
   "outputs": [
    {
     "name": "stdout",
     "output_type": "stream",
     "text": [
      "Area Under the Curve score: 0.9374604017757899\n"
     ]
    },
    {
     "data": {
      "image/png": "[encoded data removed]",
      "text/plain": [
       "<Figure size 720x360 with 1 Axes>"
      ]
     },
     "metadata": {
      "needs_background": "light"
     },
     "output_type": "display_data"
    }
   ],
   "source": [
    "plot_ROC(fpr, tpr, threshold, y_train, y_preds, model = 'Logistic Regression (train data)')"
   ]
  },
  {
   "cell_type": "code",
   "execution_count": 18,
   "metadata": {},
   "outputs": [],
   "source": [
    "y_test_preds = cross_val_predict(logreg, X_test, y_test, cv = 5)"
   ]
  },
  {
   "cell_type": "code",
   "execution_count": 19,
   "metadata": {},
   "outputs": [],
   "source": [
    "fpr, tpr, threshold = roc_curve(y_test, y_test_preds)"
   ]
  },
  {
   "cell_type": "code",
   "execution_count": 20,
   "metadata": {},
   "outputs": [
    {
     "name": "stdout",
     "output_type": "stream",
     "text": [
      "Area Under the Curve score: 0.9385223723929299\n"
     ]
    },
    {
     "data": {
      "image/png": "[encoded data removed]",
      "text/plain": [
       "<Figure size 720x360 with 1 Axes>"
      ]
     },
     "metadata": {
      "needs_background": "light"
     },
     "output_type": "display_data"
    }
   ],
   "source": [
    "plot_ROC(fpr, tpr, threshold, y_test, y_test_preds)"
   ]
  },
  {
   "cell_type": "markdown",
   "metadata": {},
   "source": [
    "#### 2. Data transformation + conversion to `NDArray` type"
   ]
  },
  {
   "cell_type": "code",
   "execution_count": 8,
   "metadata": {},
   "outputs": [],
   "source": [
    "df = pd.read_csv(data_path + '/creditcard.csv')"
   ]
  },
  {
   "cell_type": "code",
   "execution_count": 9,
   "metadata": {},
   "outputs": [],
   "source": [
    "df['Amount'] = (df['Amount'] - df['Amount'].mean()) / df['Amount'].std()"
   ]
  },
  {
   "cell_type": "code",
   "execution_count": 10,
   "metadata": {},
   "outputs": [],
   "source": [
    "time = df['Time']\n",
    "df.drop('Time', axis = 1, inplace = True)"
   ]
  },
  {
   "cell_type": "code",
   "execution_count": 11,
   "metadata": {},
   "outputs": [],
   "source": [
    "X_train, y_train = df.iloc[:int(len(df) * 0.75), :-1], df.iloc[:int(len(df) * 0.75), -1]\n",
    "X_test, y_test = df.iloc[int(len(df) * 0.75):, :-1], df.iloc[int(len(df) * 0.75):, -1]\n",
    "\n",
    "\n",
    "X_train, y_train = np.array(X_train, dtype = np.float32), np.array(y_train)\n",
    "X_test, y_test = np.array(X_test, dtype = np.float32), np.array(y_test)\n",
    "\n",
    "y_train, y_test = y_train.reshape(-1,1), y_test.reshape(-1,1)"
   ]
  },
  {
   "cell_type": "code",
   "execution_count": 12,
   "metadata": {},
   "outputs": [],
   "source": [
    "def get_net():\n",
    "    net = nn.Sequential()\n",
    "    net.add(nn.Dense(512, activation='relu'),\n",
    "            nn.Dropout(0.3),\n",
    "            nn.Dense(256, activation='relu'),\n",
    "            nn.Dropout(0.2),\n",
    "            nn.Dense(2))\n",
    "    net.initialize()\n",
    "    return net"
   ]
  },
  {
   "cell_type": "code",
   "execution_count": 13,
   "metadata": {},
   "outputs": [],
   "source": [
    "loss = gluon.loss.SoftmaxCrossEntropyLoss()"
   ]
  },
  {
   "cell_type": "code",
   "execution_count": 14,
   "metadata": {},
   "outputs": [
    {
     "ename": "NameError",
     "evalue": "name 'net' is not defined",
     "output_type": "error",
     "traceback": [
      "\u001b[0;31m---------------------------------------------------------------------------\u001b[0m",
      "\u001b[0;31mNameError\u001b[0m                                 Traceback (most recent call last)",
      "\u001b[0;32m<ipython-input-14-63741cbcfa40>\u001b[0m in \u001b[0;36m<module>\u001b[0;34m\u001b[0m\n\u001b[0;32m----> 1\u001b[0;31m \u001b[0moptim\u001b[0m \u001b[0;34m=\u001b[0m \u001b[0mgluon\u001b[0m\u001b[0;34m.\u001b[0m\u001b[0mTrainer\u001b[0m\u001b[0;34m(\u001b[0m\u001b[0mnet\u001b[0m\u001b[0;34m.\u001b[0m\u001b[0mcollect_params\u001b[0m\u001b[0;34m(\u001b[0m\u001b[0;34m)\u001b[0m\u001b[0;34m,\u001b[0m \u001b[0;34m'sgd'\u001b[0m\u001b[0;34m,\u001b[0m \u001b[0;34m{\u001b[0m\u001b[0;34m'learning_rate'\u001b[0m\u001b[0;34m:\u001b[0m \u001b[0;36m0.03\u001b[0m\u001b[0;34m}\u001b[0m\u001b[0;34m)\u001b[0m\u001b[0;34m\u001b[0m\u001b[0;34m\u001b[0m\u001b[0m\n\u001b[0m",
      "\u001b[0;31mNameError\u001b[0m: name 'net' is not defined"
     ]
    }
   ],
   "source": [
    "optim = gluon.Trainer(net.collect_params(), 'sgd', {'learning_rate': 0.03})"
   ]
  },
  {
   "cell_type": "code",
   "execution_count": 15,
   "metadata": {},
   "outputs": [],
   "source": [
    "def load_array(features, labels, batch_size):\n",
    "    data = gluon.data.ArrayDataset(features, labels)\n",
    "    return gluon.data.DataLoader(data, batch_size)"
   ]
  },
  {
   "cell_type": "code",
   "execution_count": 16,
   "metadata": {},
   "outputs": [],
   "source": [
    "train_iter = load_array(X_train, y_train, 256)\n",
    "test_iter = load_array(X_test, y_test, 256)"
   ]
  },
  {
   "cell_type": "code",
   "execution_count": 27,
   "metadata": {},
   "outputs": [],
   "source": [
    "def train(net, X_train, y_train, epochs, learning_rate,\n",
    "         weight_decay, batch_size):\n",
    "    train_iter = load_array(X_train, y_train, batch_size)\n",
    "    optim = gluon.Trainer(net.collect_params(), \n",
    "                          'sgd', {'learning_rate': learning_rate, 'wd': weight_decay})\n",
    "    net.initialize()\n",
    "    for epoch in range(epochs):\n",
    "        for X, y in train_iter:\n",
    "            with autograd.record():\n",
    "                l = loss(net(X), y)\n",
    "            l.backward()\n",
    "            optim.step(batch_size)\n",
    "        avg_loss = loss(net(X_train), y_train).mean().asnumpy()\n",
    "        if epoch % 10 == 0:\n",
    "            print(f\"Epoch: {epoch}, Loss: {avg_loss}\")\n",
    "    return avg_loss"
   ]
  },
  {
   "cell_type": "code",
   "execution_count": 29,
   "metadata": {},
   "outputs": [],
   "source": [
    "def k_fold_cross_validation(k,epochs, X_train, y_train, learning_rate,\n",
    "                           weight_decay, batch_size):\n",
    "    assert k > 1\n",
    "    fold_size = X_train.shape[0] // k\n",
    "    \n",
    "    train_loss_sum = 0.0\n",
    "    test_loss_sum = 0.0\n",
    "    for test_idx in range(k):\n",
    "        X_val_test = X_train[test_idx * fold_size: (test_idx + 1) * fold_size, :]\n",
    "        y_val_test = y_train[test_idx * fold_size: (test_idx + 1) * fold_size]\n",
    "        val_train_defined = False\n",
    "        \n",
    "        for i in range(k):\n",
    "            if i != test_idx:\n",
    "                X_cur_fold = X_train[i * fold_size: (i + 1) * fold_size, :]\n",
    "                y_cur_fold = y_train[i * fold_size: (i + 1) * fold_size]\n",
    "                if not val_train_defined:\n",
    "                    X_val_train = X_cur_fold\n",
    "                    y_val_train = y_cur_fold\n",
    "                    val_train_defined = True\n",
    "                else:\n",
    "                    X_val_train = np.concatenate([X_val_train, X_cur_fold], axis = 0)\n",
    "                    y_val_train = np.concatenate([y_val_train, y_cur_fold], axis = 0)\n",
    "                    \n",
    "        net = get_net()\n",
    "        train_loss = train(net, X_val_train, y_val_train, epochs, learning_rate, weight_decay, batch_size)\n",
    "        train_loss_sum += train_loss\n",
    "        test_loss = loss(net(X_val_test), y_val_test).mean().asnumpy()\n",
    "        test_loss_sum += test_loss\n",
    "    return train_loss_sum / k, test_loss_sum / k"
   ]
  },
  {
   "cell_type": "code",
   "execution_count": 30,
   "metadata": {},
   "outputs": [],
   "source": [
    "k = 5\n",
    "epochs = 50\n",
    "batch_size = 256\n",
    "learning_rate = 0.03\n",
    "weight_decay = 0"
   ]
  },
  {
   "cell_type": "code",
   "execution_count": 31,
   "metadata": {},
   "outputs": [
    {
     "name": "stderr",
     "output_type": "stream",
     "text": [
      "/Users/januszpolowczyk/Documents/DeepLearn/env/lib/python3.7/site-packages/mxnet/gluon/parameter.py:887: UserWarning: Parameter 'dense3_bias' is already initialized, ignoring. Set force_reinit=True to re-initialize.\n",
      "  v.initialize(None, ctx, init, force_reinit=force_reinit)\n",
      "/Users/januszpolowczyk/Documents/DeepLearn/env/lib/python3.7/site-packages/mxnet/gluon/parameter.py:887: UserWarning: Parameter 'dense4_bias' is already initialized, ignoring. Set force_reinit=True to re-initialize.\n",
      "  v.initialize(None, ctx, init, force_reinit=force_reinit)\n",
      "/Users/januszpolowczyk/Documents/DeepLearn/env/lib/python3.7/site-packages/mxnet/gluon/parameter.py:887: UserWarning: Parameter 'dense5_bias' is already initialized, ignoring. Set force_reinit=True to re-initialize.\n",
      "  v.initialize(None, ctx, init, force_reinit=force_reinit)\n"
     ]
    },
    {
     "name": "stdout",
     "output_type": "stream",
     "text": [
      "Epoch: 0, Loss: 0.009052545763552189\n",
      "Epoch: 10, Loss: 0.002934892661869526\n",
      "Epoch: 20, Loss: 0.002655492629855871\n",
      "Epoch: 30, Loss: 0.00250849942676723\n",
      "Epoch: 40, Loss: 0.0023960876278579235\n"
     ]
    },
    {
     "name": "stderr",
     "output_type": "stream",
     "text": [
      "/Users/januszpolowczyk/Documents/DeepLearn/env/lib/python3.7/site-packages/mxnet/gluon/parameter.py:887: UserWarning: Parameter 'dense6_bias' is already initialized, ignoring. Set force_reinit=True to re-initialize.\n",
      "  v.initialize(None, ctx, init, force_reinit=force_reinit)\n",
      "/Users/januszpolowczyk/Documents/DeepLearn/env/lib/python3.7/site-packages/mxnet/gluon/parameter.py:887: UserWarning: Parameter 'dense7_bias' is already initialized, ignoring. Set force_reinit=True to re-initialize.\n",
      "  v.initialize(None, ctx, init, force_reinit=force_reinit)\n",
      "/Users/januszpolowczyk/Documents/DeepLearn/env/lib/python3.7/site-packages/mxnet/gluon/parameter.py:887: UserWarning: Parameter 'dense8_bias' is already initialized, ignoring. Set force_reinit=True to re-initialize.\n",
      "  v.initialize(None, ctx, init, force_reinit=force_reinit)\n"
     ]
    },
    {
     "name": "stdout",
     "output_type": "stream",
     "text": [
      "Epoch: 0, Loss: 0.007936914451420307\n",
      "Epoch: 10, Loss: 0.003467370755970478\n",
      "Epoch: 20, Loss: 0.0030649586115032434\n",
      "Epoch: 30, Loss: 0.002825286937877536\n",
      "Epoch: 40, Loss: 0.002635710407048464\n"
     ]
    },
    {
     "name": "stderr",
     "output_type": "stream",
     "text": [
      "/Users/januszpolowczyk/Documents/DeepLearn/env/lib/python3.7/site-packages/mxnet/gluon/parameter.py:887: UserWarning: Parameter 'dense9_bias' is already initialized, ignoring. Set force_reinit=True to re-initialize.\n",
      "  v.initialize(None, ctx, init, force_reinit=force_reinit)\n",
      "/Users/januszpolowczyk/Documents/DeepLearn/env/lib/python3.7/site-packages/mxnet/gluon/parameter.py:887: UserWarning: Parameter 'dense10_bias' is already initialized, ignoring. Set force_reinit=True to re-initialize.\n",
      "  v.initialize(None, ctx, init, force_reinit=force_reinit)\n",
      "/Users/januszpolowczyk/Documents/DeepLearn/env/lib/python3.7/site-packages/mxnet/gluon/parameter.py:887: UserWarning: Parameter 'dense11_bias' is already initialized, ignoring. Set force_reinit=True to re-initialize.\n",
      "  v.initialize(None, ctx, init, force_reinit=force_reinit)\n"
     ]
    },
    {
     "name": "stdout",
     "output_type": "stream",
     "text": [
      "Epoch: 0, Loss: 0.006926803849637508\n",
      "Epoch: 10, Loss: 0.0035186626482754946\n",
      "Epoch: 20, Loss: 0.0031058667227625847\n",
      "Epoch: 30, Loss: 0.0028981640934944153\n",
      "Epoch: 40, Loss: 0.0027301348745822906\n"
     ]
    },
    {
     "name": "stderr",
     "output_type": "stream",
     "text": [
      "/Users/januszpolowczyk/Documents/DeepLearn/env/lib/python3.7/site-packages/mxnet/gluon/parameter.py:887: UserWarning: Parameter 'dense12_bias' is already initialized, ignoring. Set force_reinit=True to re-initialize.\n",
      "  v.initialize(None, ctx, init, force_reinit=force_reinit)\n",
      "/Users/januszpolowczyk/Documents/DeepLearn/env/lib/python3.7/site-packages/mxnet/gluon/parameter.py:887: UserWarning: Parameter 'dense13_bias' is already initialized, ignoring. Set force_reinit=True to re-initialize.\n",
      "  v.initialize(None, ctx, init, force_reinit=force_reinit)\n",
      "/Users/januszpolowczyk/Documents/DeepLearn/env/lib/python3.7/site-packages/mxnet/gluon/parameter.py:887: UserWarning: Parameter 'dense14_bias' is already initialized, ignoring. Set force_reinit=True to re-initialize.\n",
      "  v.initialize(None, ctx, init, force_reinit=force_reinit)\n"
     ]
    },
    {
     "name": "stdout",
     "output_type": "stream",
     "text": [
      "Epoch: 0, Loss: 0.00900680385529995\n",
      "Epoch: 10, Loss: 0.003591276938095689\n",
      "Epoch: 20, Loss: 0.0031863560434430838\n",
      "Epoch: 30, Loss: 0.0029498981311917305\n",
      "Epoch: 40, Loss: 0.002761579118669033\n"
     ]
    },
    {
     "name": "stderr",
     "output_type": "stream",
     "text": [
      "/Users/januszpolowczyk/Documents/DeepLearn/env/lib/python3.7/site-packages/mxnet/gluon/parameter.py:887: UserWarning: Parameter 'dense15_bias' is already initialized, ignoring. Set force_reinit=True to re-initialize.\n",
      "  v.initialize(None, ctx, init, force_reinit=force_reinit)\n",
      "/Users/januszpolowczyk/Documents/DeepLearn/env/lib/python3.7/site-packages/mxnet/gluon/parameter.py:887: UserWarning: Parameter 'dense16_bias' is already initialized, ignoring. Set force_reinit=True to re-initialize.\n",
      "  v.initialize(None, ctx, init, force_reinit=force_reinit)\n",
      "/Users/januszpolowczyk/Documents/DeepLearn/env/lib/python3.7/site-packages/mxnet/gluon/parameter.py:887: UserWarning: Parameter 'dense17_bias' is already initialized, ignoring. Set force_reinit=True to re-initialize.\n",
      "  v.initialize(None, ctx, init, force_reinit=force_reinit)\n"
     ]
    },
    {
     "name": "stdout",
     "output_type": "stream",
     "text": [
      "Epoch: 0, Loss: 0.0072891744785010815\n",
      "Epoch: 10, Loss: 0.003811096539720893\n",
      "Epoch: 20, Loss: 0.003357737557962537\n",
      "Epoch: 30, Loss: 0.003132013836875558\n",
      "Epoch: 40, Loss: 0.0029409246053546667\n"
     ]
    }
   ],
   "source": [
    "train_loss, test_loss = k_fold_cross_validation(k, epochs, X_train, y_train, learning_rate, weight_decay,\n",
    "                                               batch_size)"
   ]
  },
  {
   "cell_type": "code",
   "execution_count": null,
   "metadata": {},
   "outputs": [
    {
     "name": "stdout",
     "output_type": "stream",
     "text": [
      "Epoch: 0, Loss: 0.006574287544935942\n"
     ]
    }
   ],
   "source": [
    "num_epochs = 50\n",
    "batch_size = 256\n",
    "\n",
    "for epoch in range(num_epochs + 1):\n",
    "    for X, y in train_iter:\n",
    "        with autograd.record():\n",
    "            l = loss(net(X), y)\n",
    "        l.backward()\n",
    "        optim.step(batch_size)\n",
    "    train_l = loss(net(X_train), y_train)\n",
    "    if epoch % 10 == 0:\n",
    "        print(f'Epoch: {epoch}, Loss: {train_l.mean().asnumpy()}')"
   ]
  },
  {
   "cell_type": "code",
   "execution_count": 21,
   "metadata": {},
   "outputs": [],
   "source": [
    "preds = net(X_test)\n",
    "preds = np.array(preds.argmax(axis = 1).reshape(-1,1), dtype = np.int64)"
   ]
  },
  {
   "cell_type": "code",
   "execution_count": 23,
   "metadata": {},
   "outputs": [
    {
     "data": {
      "text/plain": [
       "array(0.99956465)"
      ]
     },
     "execution_count": 23,
     "metadata": {},
     "output_type": "execute_result"
    }
   ],
   "source": [
    "np.mean(preds == y_test)"
   ]
  },
  {
   "cell_type": "code",
   "execution_count": null,
   "metadata": {},
   "outputs": [],
   "source": []
  }
 ],
 "metadata": {
  "kernelspec": {
   "display_name": "Python 3",
   "language": "python",
   "name": "python3"
  },
  "language_info": {
   "codemirror_mode": {
    "name": "ipython",
    "version": 3
   },
   "file_extension": ".py",
   "mimetype": "text/x-python",
   "name": "python",
   "nbconvert_exporter": "python",
   "pygments_lexer": "ipython3",
   "version": "3.7.4"
  }
 },
 "nbformat": 4,
 "nbformat_minor": 4
}
