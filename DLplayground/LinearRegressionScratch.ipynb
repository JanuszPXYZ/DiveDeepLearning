{
 "cells": [
  {
   "cell_type": "markdown",
   "metadata": {},
   "source": [
    "### Linear Regression from scratch"
   ]
  },
  {
   "cell_type": "code",
   "execution_count": 218,
   "metadata": {},
   "outputs": [],
   "source": [
    "import numpy as np\n",
    "import matplotlib.pyplot as plt\n",
    "\n",
    "from typing import Dict, Tuple, List\n",
    "from sklearn.datasets import make_regression, make_classification\n",
    "from numpy import ndarray\n",
    "import random"
   ]
  },
  {
   "cell_type": "code",
   "execution_count": 219,
   "metadata": {},
   "outputs": [],
   "source": [
    "features, labels = make_regression(n_samples = 30000, n_features=5)"
   ]
  },
  {
   "cell_type": "code",
   "execution_count": 220,
   "metadata": {},
   "outputs": [
    {
     "data": {
      "text/plain": [
       "24000"
      ]
     },
     "execution_count": 220,
     "metadata": {},
     "output_type": "execute_result"
    }
   ],
   "source": [
    "int(len(features) * 0.8)"
   ]
  },
  {
   "cell_type": "code",
   "execution_count": 221,
   "metadata": {},
   "outputs": [],
   "source": [
    "X_train, y_train = features[0: int(len(features) * 0.8)], labels[0: int(len(labels) * 0.8)]\n",
    "X_test, y_test = features[int(len(features) * 0.8):], labels[int(len(features)*0.8):]"
   ]
  },
  {
   "cell_type": "code",
   "execution_count": 222,
   "metadata": {},
   "outputs": [],
   "source": [
    "y_train, y_test = y_train.reshape(-1,1), y_test.reshape(-1,1)"
   ]
  },
  {
   "cell_type": "code",
   "execution_count": 223,
   "metadata": {},
   "outputs": [
    {
     "data": {
      "text/plain": [
       "<matplotlib.collections.PathCollection at 0x12db88e90>"
      ]
     },
     "execution_count": 223,
     "metadata": {},
     "output_type": "execute_result"
    },
    {
     "data": {
      "image/png": "[encoded data removed]",
      "text/plain": [
       "<Figure size 720x360 with 4 Axes>"
      ]
     },
     "metadata": {
      "needs_background": "light"
     },
     "output_type": "display_data"
    }
   ],
   "source": [
    "fig, ax = plt.subplots(nrows=2, ncols=2, figsize = (10,5))\n",
    "\n",
    "ax[0,0].scatter(features[:, 0], labels)\n",
    "ax[0,1].scatter(features[:, 1], labels)\n",
    "ax[1,0].scatter(features[:, 2], labels)\n",
    "ax[1,1].scatter(features[:, 3], labels)"
   ]
  },
  {
   "cell_type": "markdown",
   "metadata": {},
   "source": [
    "Okay, we have the data. What is next?\n",
    "\n",
    "- Loss Function\n",
    "- Optimizer -> This time I will include it in the training loop, and then look if I can write a cleaner code.\n",
    "- Model"
   ]
  },
  {
   "cell_type": "code",
   "execution_count": 224,
   "metadata": {},
   "outputs": [],
   "source": [
    "def MSE(preds, actuals):\n",
    "    return np.mean(np.power(preds - actuals, 2))"
   ]
  },
  {
   "cell_type": "code",
   "execution_count": 225,
   "metadata": {},
   "outputs": [],
   "source": [
    "def linreg(X: ndarray, \n",
    "           y: ndarray, \n",
    "           weights: Dict[str, ndarray]) -> Dict[str, ndarray]:\n",
    "    M = np.dot(X, weights['W'])\n",
    "    N = M + weights['B']\n",
    "    \n",
    "    L = MSE(N, y)\n",
    "    \n",
    "    forward_info: Dict[str, ndarray] = {}\n",
    "    forward_info['X'] = X\n",
    "    forward_info['y'] = y\n",
    "    forward_info['M'] = M\n",
    "    forward_info['N'] = N\n",
    "    forward_info['loss'] = L\n",
    "    \n",
    "    return forward_info"
   ]
  },
  {
   "cell_type": "code",
   "execution_count": 226,
   "metadata": {},
   "outputs": [
    {
     "data": {
      "text/plain": [
       "array([[ 6,  8, 10, 12]])"
      ]
     },
     "execution_count": 226,
     "metadata": {},
     "output_type": "execute_result"
    }
   ],
   "source": [
    "x = np.array([[1,2,3,4],\n",
    "            [5,6,7,8]])\n",
    "x.sum(axis = 0, keepdims = True)"
   ]
  },
  {
   "cell_type": "code",
   "execution_count": 227,
   "metadata": {},
   "outputs": [],
   "source": [
    "def backprop(forward_info: Dict[str, ndarray],\n",
    "            weights: Dict[str, ndarray]):\n",
    "    dLdN = -2 * (forward_info['y'] - forward_info['N'])\n",
    "    dNdM = np.ones_like(forward_info['M'])\n",
    "    dNdB = np.ones_like(weights['B'])\n",
    "    \n",
    "    dLdM = dLdN * dNdM\n",
    "    dLdB = (dLdN * dNdB).sum(axis = 0)\n",
    "    \n",
    "    dMdW = np.transpose(forward_info['X'], (1,0))\n",
    "    dLdW = np.dot(dMdW, dLdM)\n",
    "    \n",
    "    backprop_info: Dict[str, ndarray] = {}\n",
    "    backprop_info['W'] = dLdW\n",
    "    backprop_info['B'] = dLdB\n",
    "    \n",
    "    return backprop_info"
   ]
  },
  {
   "cell_type": "code",
   "execution_count": 228,
   "metadata": {},
   "outputs": [],
   "source": [
    "def data_iter(features, labels, batch_size):\n",
    "    num_examples = len(features)\n",
    "    indices = list(range(num_examples))\n",
    "    random.shuffle(indices)\n",
    "        \n",
    "    for i in range(0, num_examples, batch_size):\n",
    "        batch_indices = np.array(\n",
    "            indices[i: min(i + batch_size, num_examples)])\n",
    "    \n",
    "    yield features[batch_indices], labels[batch_indices]"
   ]
  },
  {
   "cell_type": "code",
   "execution_count": 229,
   "metadata": {},
   "outputs": [],
   "source": [
    "def weight_init(n_features):\n",
    "    weights: Dict[str, ndarray] = {}\n",
    "    weights['W'] = np.random.randn(n_features, 1)\n",
    "    weights['B'] = np.zeros(1)\n",
    "    \n",
    "    return weights"
   ]
  },
  {
   "cell_type": "code",
   "execution_count": 230,
   "metadata": {},
   "outputs": [],
   "source": [
    "def SGD(parameters: Dict[str, ndarray], \n",
    "        lr: float, \n",
    "        batch_size: int , \n",
    "        backprop_info: Dict[str, ndarray]):\n",
    "    for key in parameters.keys():\n",
    "        parameters[key] -= grads[key] * lr"
   ]
  },
  {
   "cell_type": "code",
   "execution_count": 231,
   "metadata": {},
   "outputs": [],
   "source": [
    "wgts = weight_init(X_train.shape[1])"
   ]
  },
  {
   "cell_type": "code",
   "execution_count": 232,
   "metadata": {},
   "outputs": [],
   "source": [
    "batch_size = 25\n",
    "num_epochs = 100\n",
    "lr = 0.01\n",
    "losses = []\n",
    "for epoch in range(num_epochs):\n",
    "    for X, y in data_iter(X_train, y_train, batch_size):\n",
    "        preds = linreg(X, y, wgts)\n",
    "        grads = backprop(preds, wgts)\n",
    "        SGD(wgts, lr, batch_size, grads)\n",
    "    if epoch % 5 == 0:\n",
    "        losses.append(MSE(preds['N'], y))"
   ]
  },
  {
   "cell_type": "code",
   "execution_count": 233,
   "metadata": {},
   "outputs": [
    {
     "data": {
      "text/plain": [
       "[<matplotlib.lines.Line2D at 0x12d4ad550>]"
      ]
     },
     "execution_count": 233,
     "metadata": {},
     "output_type": "execute_result"
    },
    {
     "data": {
      "image/png": "[encoded data removed]",
      "text/plain": [
       "<Figure size 432x288 with 1 Axes>"
      ]
     },
     "metadata": {
      "needs_background": "light"
     },
     "output_type": "display_data"
    }
   ],
   "source": [
    "plt.plot(losses)"
   ]
  },
  {
   "cell_type": "code",
   "execution_count": 234,
   "metadata": {},
   "outputs": [
    {
     "data": {
      "text/plain": [
       "3.9258496437890664e-28"
      ]
     },
     "execution_count": 234,
     "metadata": {},
     "output_type": "execute_result"
    }
   ],
   "source": [
    "MSE(predict(X_test, wgts), y_test)"
   ]
  },
  {
   "cell_type": "code",
   "execution_count": 188,
   "metadata": {},
   "outputs": [],
   "source": [
    "def predict(X: ndarray, weights: Dict[str, ndarray]):\n",
    "    M = np.dot(X, weights['W'])\n",
    "    N = M + weights['B']\n",
    "    return N"
   ]
  }
 ],
 "metadata": {
  "kernelspec": {
   "display_name": "Python 3",
   "language": "python",
   "name": "python3"
  },
  "language_info": {
   "codemirror_mode": {
    "name": "ipython",
    "version": 3
   },
   "file_extension": ".py",
   "mimetype": "text/x-python",
   "name": "python",
   "nbconvert_exporter": "python",
   "pygments_lexer": "ipython3",
   "version": "3.7.4"
  }
 },
 "nbformat": 4,
 "nbformat_minor": 4
}
